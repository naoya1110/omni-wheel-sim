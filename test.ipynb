{
 "cells": [
  {
   "cell_type": "code",
   "execution_count": 1,
   "metadata": {},
   "outputs": [
    {
     "name": "stdout",
     "output_type": "stream",
     "text": [
      "pygame 2.5.2 (SDL 2.28.3, Python 3.10.0)\n",
      "Hello from the pygame community. https://www.pygame.org/contribute.html\n"
     ]
    }
   ],
   "source": [
    "import pygame\n",
    "import time\n",
    "import cv2\n",
    "import numpy as np\n",
    "import matplotlib.pyplot as plt"
   ]
  },
  {
   "cell_type": "code",
   "execution_count": 33,
   "metadata": {},
   "outputs": [],
   "source": [
    "def get_axes(joystick):\n",
    "    ax0 = int(round(joystick.get_axis(0)*100))\n",
    "    ax1 = int(round(-joystick.get_axis(1)*100))\n",
    "    ax2 = int(round(joystick.get_axis(2)*100))\n",
    "    ax3 = int(round(joystick.get_axis(3)*100))\n",
    "    return ax0, ax1, ax2, ax3"
   ]
  },
  {
   "cell_type": "code",
   "execution_count": 31,
   "metadata": {},
   "outputs": [
    {
     "data": {
      "text/plain": [
       "<matplotlib.image.AxesImage at 0x26430d4bc40>"
      ]
     },
     "execution_count": 31,
     "metadata": {},
     "output_type": "execute_result"
    },
    {
     "data": {
      "image/png": "[encoded data removed]",
      "text/plain": [
       "<Figure size 432x288 with 1 Axes>"
      ]
     },
     "metadata": {
      "needs_background": "light"
     },
     "output_type": "display_data"
    }
   ],
   "source": [
    "img_blank = 255*np.ones((800, 600, 3), dtype=\"uint8\")\n",
    "img = img_blank\n",
    "plt.imshow(img_blank)"
   ]
  },
  {
   "cell_type": "code",
   "execution_count": 46,
   "metadata": {},
   "outputs": [
    {
     "name": "stdout",
     "output_type": "stream",
     "text": [
      "Number of joysticks found: 1\n",
      "Joystick Name: Xbox 360 Controller\n",
      "Number of Axes: 6\n",
      "Number of Buttons: 11\n",
      "Press ESC to stop\n"
     ]
    }
   ],
   "source": [
    "# Initialize Pygame\n",
    "pygame.init()\n",
    "\n",
    "# Check for available joysticks\n",
    "joystick_count = pygame.joystick.get_count()\n",
    "print(f\"Number of joysticks found: {joystick_count}\")\n",
    "\n",
    "joystick = pygame.joystick.Joystick(0)\n",
    "joystick.init()\n",
    "\n",
    "print(f\"Joystick Name: {joystick.get_name()}\")\n",
    "print(f\"Number of Axes: {joystick.get_numaxes()}\")\n",
    "print(f\"Number of Buttons: {joystick.get_numbuttons()}\")\n",
    "\n",
    "font = cv2.FONT_HERSHEY_SIMPLEX\n",
    "font_scale = 0.8\n",
    "font_color = (255, 0, 0)  # BGR color (white in this case)\n",
    "font_thickness = 2\n",
    "\n",
    "print(\"Press ESC to stop\")\n",
    "\n",
    "while True:\n",
    "    # Handle events\n",
    "    for event in pygame.event.get():\n",
    "        if event.type == pygame.QUIT:\n",
    "            pygame.quit()\n",
    "            exit()\n",
    "\n",
    "    ax0, ax1, ax2, ax3 = get_axes(joystick)\n",
    "\n",
    "\n",
    "    \n",
    "    x = ax0\n",
    "    y = ax1\n",
    "    r = ax2\n",
    "    \n",
    "    pt_left_0 = np.array([150, 650])\n",
    "    pt_left = pt_left_0 + np.array([x, -y])\n",
    "    \n",
    "    pt_right_0 = np.array([450, 650])\n",
    "    pt_right = pt_right_0 + np.array([r, 0])\n",
    "    \n",
    "    \n",
    "    img = img_blank.copy()\n",
    "    \n",
    "    cv2.line(img, (30, 650), (270, 650), (0,0,0), 1)\n",
    "    cv2.line(img, (150, 530), (150, 770), (0,0,0), 1)\n",
    "    cv2.line(img, (330, 650), (570, 650), (0,0,0), 1)\n",
    "    cv2.line(img, (450, 530), (450, 770), (0,0,0), 1)\n",
    "    # Draw a line from A to B on the image\n",
    "    color = (255, 0, 0)  # BGR color (green in this case)\n",
    "    thickness = 4\n",
    "    cv2.line(img, pt_left_0, pt_left, color, thickness)\n",
    "    cv2.circle(img, pt_left, 10, color, -1)\n",
    "    \n",
    "    \n",
    "    \n",
    "    cv2.line(img, pt_right_0, pt_right, color, thickness)\n",
    "    cv2.circle(img, pt_right, 10, color, -1)\n",
    "\n",
    "    cv2.putText(img, f\"Omni Wheels\", (20, 30), font, font_scale, font_color, font_thickness)  \n",
    "    \n",
    "    cv2.putText(img, f\"Controller\", (20, 520), font, font_scale, font_color, font_thickness)   \n",
    "    cv2.putText(img, f\"X {x}\", (20, 790), font, font_scale, font_color, font_thickness)    \n",
    "    cv2.putText(img, f\"Y {y}\", (170, 790), font, font_scale, font_color, font_thickness)\n",
    "    cv2.putText(img, f\"R {r}\", (400, 790), font, font_scale, font_color, font_thickness)\n",
    "    \n",
    "    cv2.imshow(\"Omni Wheel Sim\", img)\n",
    "    \n",
    "    # Break the loop if 'q' key is pressed\n",
    "    if cv2.waitKey(10) & 0xFF == 27:\n",
    "        pygame.quit()\n",
    "        break\n",
    "    \n",
    "    \n",
    "    \n",
    "    #time.sleep(0.01)\n",
    "cv2.destroyAllWindows()\n",
    "pygame.quit()"
   ]
  },
  {
   "cell_type": "code",
   "execution_count": null,
   "metadata": {},
   "outputs": [],
   "source": []
  }
 ],
 "metadata": {
  "kernelspec": {
   "display_name": "venv202201",
   "language": "python",
   "name": "python3"
  },
  "language_info": {
   "codemirror_mode": {
    "name": "ipython",
    "version": 3
   },
   "file_extension": ".py",
   "mimetype": "text/x-python",
   "name": "python",
   "nbconvert_exporter": "python",
   "pygments_lexer": "ipython3",
   "version": "3.10.0"
  }
 },
 "nbformat": 4,
 "nbformat_minor": 2
}
